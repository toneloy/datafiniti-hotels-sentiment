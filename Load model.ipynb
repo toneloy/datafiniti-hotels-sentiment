{
 "cells": [
  {
   "cell_type": "code",
   "execution_count": 1,
   "metadata": {},
   "outputs": [
    {
     "name": "stderr",
     "output_type": "stream",
     "text": [
      "Using TensorFlow backend.\n"
     ]
    },
    {
     "name": "stdout",
     "output_type": "stream",
     "text": [
      "this hotel was a great experience in my life 4.4888067\n",
      "awful experience 1.6314995\n",
      "service was disappointing 3.8615718\n",
      "totally recommended 4.668678\n"
     ]
    }
   ],
   "source": [
    "from keras.models import model_from_json\n",
    "import pickle\n",
    "\n",
    "def predict_rating(text, model_, tokenizer_):\n",
    "    text_vector = tokenizer_.texts_to_matrix([text])\n",
    "    prediction = model_.predict(text_vector)\n",
    "    \n",
    "    return prediction[0, 0]\n",
    "\n",
    "with open('/floyd/home/datafiniti_hotel_reviews_sentiment.json', 'r') as json_file:\n",
    "    loaded_model_json = json_file.read()\n",
    "    loaded_model = model_from_json(loaded_model_json)\n",
    "\n",
    "loaded_model.load_weights(\"/floyd/home/datafiniti_hotel_reviews_sentiment_weights.h5\")\n",
    "\n",
    "# loading\n",
    "with open('/floyd/home/datafiniti_hotel_reviews_sentiment_tokenizer.pickle', 'rb') as handle:\n",
    "    tokenizer = pickle.load(handle)\n",
    "\n",
    "title = 'this hotel was a great experience in my life'\n",
    "print(title, predict_rating(title, loaded_model, tokenizer))\n",
    "\n",
    "title = 'awful experience'\n",
    "print(title, predict_rating(title, loaded_model, tokenizer))\n",
    "\n",
    "title = 'service was disappointing'\n",
    "print(title, predict_rating(title, loaded_model, tokenizer))\n",
    "\n",
    "title = 'totally recommended'\n",
    "print(title, predict_rating(title, loaded_model, tokenizer))"
   ]
  },
  {
   "cell_type": "code",
   "execution_count": null,
   "metadata": {},
   "outputs": [],
   "source": []
  }
 ],
 "metadata": {
  "kernelspec": {
   "display_name": "Python 3",
   "language": "python",
   "name": "python3"
  },
  "language_info": {
   "codemirror_mode": {
    "name": "ipython",
    "version": 3
   },
   "file_extension": ".py",
   "mimetype": "text/x-python",
   "name": "python",
   "nbconvert_exporter": "python",
   "pygments_lexer": "ipython3",
   "version": "3.6.5"
  }
 },
 "nbformat": 4,
 "nbformat_minor": 2
}
