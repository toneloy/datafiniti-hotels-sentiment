{
 "cells": [
  {
   "cell_type": "code",
   "execution_count": 7,
   "metadata": {},
   "outputs": [
    {
     "name": "stdout",
     "output_type": "stream",
     "text": [
      "this hotel was a great experience in my life 3.746072\n",
      "awful experience 1.6366513\n",
      "service was disappointing 2.4090168\n",
      "totally recommended 4.762338\n"
     ]
    }
   ],
   "source": [
    "from keras.models import load_model\n",
    "import pickle\n",
    "\n",
    "def predict_rating(text, model_, tokenizer_):\n",
    "    text_vector = tokenizer_.texts_to_matrix([text])\n",
    "    prediction = model_.predict(text_vector)\n",
    "    \n",
    "    return prediction[0, 0]\n",
    "\n",
    "loaded_model = load_model(\"datafiniti_hotel_reviews_sentiment.h5\")\n",
    "\n",
    "# loading\n",
    "with open('datafiniti_hotel_reviews_sentiment_tokenizer.pickle', 'rb') as handle:\n",
    "    tokenizer = pickle.load(handle)\n",
    "\n",
    "title = 'this hotel was a great experience in my life'\n",
    "print(title, predict_rating(title, loaded_model, tokenizer))\n",
    "\n",
    "title = 'awful experience'\n",
    "print(title, predict_rating(title, loaded_model, tokenizer))\n",
    "\n",
    "title = 'service was disappointing'\n",
    "print(title, predict_rating(title, loaded_model, tokenizer))\n",
    "\n",
    "title = 'totally recommended'\n",
    "print(title, predict_rating(title, loaded_model, tokenizer))"
   ]
  },
  {
   "cell_type": "code",
   "execution_count": null,
   "metadata": {},
   "outputs": [],
   "source": []
  }
 ],
 "metadata": {
  "kernelspec": {
   "display_name": "Python 3",
   "language": "python",
   "name": "python3"
  },
  "language_info": {
   "codemirror_mode": {
    "name": "ipython",
    "version": 3
   },
   "file_extension": ".py",
   "mimetype": "text/x-python",
   "name": "python",
   "nbconvert_exporter": "python",
   "pygments_lexer": "ipython3",
   "version": "3.6.8"
  }
 },
 "nbformat": 4,
 "nbformat_minor": 2
}
