{
 "cells": [
  {
   "cell_type": "markdown",
   "metadata": {},
   "source": [
    "## Datafiniti's Hotel Reviews Sentiment Analysis using Bag-of-words\n",
    "\n",
    "In this demo, I'll work on the Datafiniti Hotel Reviews dataset to build a sentiment analysis model using deep learning with a bag-of-words approach.\n",
    "\n",
    "This dataset contains reviews with a title, a content and a rating. It also cointains information about the hotel and the reviewer, but I'll keep it simple by now and I'll only use the review title to predict the review rating. I'll then pass a title to this model to predict whether it's a good or a bad review."
   ]
  },
  {
   "cell_type": "code",
   "execution_count": 1,
   "metadata": {},
   "outputs": [
    {
     "data": {
      "text/html": [
       "<div>\n",
       "<style scoped>\n",
       "    .dataframe tbody tr th:only-of-type {\n",
       "        vertical-align: middle;\n",
       "    }\n",
       "\n",
       "    .dataframe tbody tr th {\n",
       "        vertical-align: top;\n",
       "    }\n",
       "\n",
       "    .dataframe thead th {\n",
       "        text-align: right;\n",
       "    }\n",
       "</style>\n",
       "<table border=\"1\" class=\"dataframe\">\n",
       "  <thead>\n",
       "    <tr style=\"text-align: right;\">\n",
       "      <th></th>\n",
       "      <th>index</th>\n",
       "      <th>reviews.rating</th>\n",
       "      <th>reviews.title</th>\n",
       "    </tr>\n",
       "  </thead>\n",
       "  <tbody>\n",
       "    <tr>\n",
       "      <th>0</th>\n",
       "      <td>0</td>\n",
       "      <td>5.0</td>\n",
       "      <td>Best romantic vacation ever!!!!</td>\n",
       "    </tr>\n",
       "    <tr>\n",
       "      <th>1</th>\n",
       "      <td>1</td>\n",
       "      <td>5.0</td>\n",
       "      <td>Sweet sweet serenity</td>\n",
       "    </tr>\n",
       "    <tr>\n",
       "      <th>2</th>\n",
       "      <td>2</td>\n",
       "      <td>5.0</td>\n",
       "      <td>Amazing Property and Experience</td>\n",
       "    </tr>\n",
       "    <tr>\n",
       "      <th>3</th>\n",
       "      <td>3</td>\n",
       "      <td>2.0</td>\n",
       "      <td>Never again...beware, if you want sleep.</td>\n",
       "    </tr>\n",
       "    <tr>\n",
       "      <th>4</th>\n",
       "      <td>4</td>\n",
       "      <td>5.0</td>\n",
       "      <td>ALWAYS GREAT STAY...</td>\n",
       "    </tr>\n",
       "  </tbody>\n",
       "</table>\n",
       "</div>"
      ],
      "text/plain": [
       "   index  reviews.rating                             reviews.title\n",
       "0      0             5.0           Best romantic vacation ever!!!!\n",
       "1      1             5.0                      Sweet sweet serenity\n",
       "2      2             5.0           Amazing Property and Experience\n",
       "3      3             2.0  Never again...beware, if you want sleep.\n",
       "4      4             5.0                      ALWAYS GREAT STAY..."
      ]
     },
     "execution_count": 1,
     "metadata": {},
     "output_type": "execute_result"
    }
   ],
   "source": [
    "import pandas as pd\n",
    "\n",
    "hotels = pd.read_csv('data/Datafiniti_Hotel_Reviews.csv')\n",
    "hotels = hotels.loc[:, ['reviews.rating', 'reviews.title']]\n",
    "hotels.reset_index(inplace=True)\n",
    "hotels['reviews.title'] = hotels['reviews.title'].apply(lambda x: str(x))\n",
    "hotels.head()"
   ]
  },
  {
   "cell_type": "markdown",
   "metadata": {},
   "source": [
    "### Training and test sets"
   ]
  },
  {
   "cell_type": "code",
   "execution_count": 2,
   "metadata": {},
   "outputs": [],
   "source": [
    "from sklearn.model_selection import train_test_split\n",
    "train_set, test_set = train_test_split(hotels)"
   ]
  },
  {
   "cell_type": "markdown",
   "metadata": {},
   "source": [
    "#### Data preprocessing\n",
    "\n",
    "We'll use keras `Tokenizer` class to perform some preprocessing on the text:\n",
    "\n",
    "1. Lowercase\n",
    "2. Remove puntuation\n",
    "3. Tokenize\n",
    "4. Transform text into index vectors\n",
    "\n",
    "I'll use maximum 500 words"
   ]
  },
  {
   "cell_type": "code",
   "execution_count": 24,
   "metadata": {},
   "outputs": [],
   "source": [
    "import pickle\n",
    "from keras.preprocessing.text import Tokenizer\n",
    "\n",
    "MAX_WORDS = 500\n",
    "tokenizer = Tokenizer(num_words=MAX_WORDS)\n",
    "\n",
    "X_train = train_set.loc[:, 'reviews.title'].values\n",
    "y_train = train_set['reviews.rating']\n",
    "\n",
    "X_test = test_set.loc[:, 'reviews.title'].values\n",
    "y_test = test_set['reviews.rating']\n",
    "\n",
    "tokenizer.fit_on_texts(X_train)\n",
    "X_train = tokenizer.texts_to_matrix(X_train)\n",
    "X_test = tokenizer.texts_to_matrix(X_test)\n",
    "\n",
    "with open('datafiniti_hotel_reviews_sentiment_tokenizer.pickle', 'wb') as handle:\n",
    "    pickle.dump(tokenizer, handle, protocol=pickle.HIGHEST_PROTOCOL)"
   ]
  },
  {
   "cell_type": "markdown",
   "metadata": {},
   "source": [
    "## Model"
   ]
  },
  {
   "cell_type": "markdown",
   "metadata": {},
   "source": [
    "### Network Architecture"
   ]
  },
  {
   "cell_type": "code",
   "execution_count": 8,
   "metadata": {},
   "outputs": [
    {
     "name": "stdout",
     "output_type": "stream",
     "text": [
      "_________________________________________________________________\n",
      "Layer (type)                 Output Shape              Param #   \n",
      "=================================================================\n",
      "dense_1 (Dense)              (None, 1024)              513024    \n",
      "_________________________________________________________________\n",
      "dropout_1 (Dropout)          (None, 1024)              0         \n",
      "_________________________________________________________________\n",
      "dense_2 (Dense)              (None, 1024)              1049600   \n",
      "_________________________________________________________________\n",
      "dropout_2 (Dropout)          (None, 1024)              0         \n",
      "_________________________________________________________________\n",
      "dense_3 (Dense)              (None, 512)               524800    \n",
      "_________________________________________________________________\n",
      "dropout_3 (Dropout)          (None, 512)               0         \n",
      "_________________________________________________________________\n",
      "dense_4 (Dense)              (None, 1)                 513       \n",
      "=================================================================\n",
      "Total params: 2,087,937\n",
      "Trainable params: 2,087,937\n",
      "Non-trainable params: 0\n",
      "_________________________________________________________________\n"
     ]
    }
   ],
   "source": [
    "import keras\n",
    "from keras.layers import Dense, Dropout\n",
    "from keras.models import Sequential\n",
    "\n",
    "\n",
    "model = Sequential()\n",
    "\n",
    "model.add(Dense(units=1024, activation='relu', input_dim=X_train.shape[1]))\n",
    "model.add(Dropout(0.2))\n",
    "model.add(Dense(units=1024, activation='relu', input_dim=1024))\n",
    "model.add(Dropout(0.2))\n",
    "model.add(Dense(units=512, activation='relu', input_dim=1024))\n",
    "model.add(Dropout(0.2))\n",
    "model.add(Dense(units=1, input_dim=512))\n",
    "\n",
    "model.compile(loss='mse',\n",
    "              optimizer='adam', \n",
    "              metrics=['mae'])\n",
    "\n",
    "model.summary()"
   ]
  },
  {
   "cell_type": "markdown",
   "metadata": {},
   "source": [
    "### Model training\n",
    "\n",
    "As the data is not that big and I'll be using a GPU, I'll use the full data on each epoch. Also, I'll split use 20% of the data as validation set to monitor if there's overfitting."
   ]
  },
  {
   "cell_type": "markdown",
   "metadata": {},
   "source": [
    "#### TensorBoard\n",
    "\n",
    "To monitor the model's improvement over the epochs, I'll use the TensorBoard callback. For this, I'll have to create a log directory to store TensorFlow logs that TensorBoard will use to show the plots."
   ]
  },
  {
   "cell_type": "code",
   "execution_count": null,
   "metadata": {},
   "outputs": [],
   "source": [
    "!mkdir my_log_dir"
   ]
  },
  {
   "cell_type": "markdown",
   "metadata": {},
   "source": [
    "#### Callbacks and model fit"
   ]
  },
  {
   "cell_type": "code",
   "execution_count": 15,
   "metadata": {},
   "outputs": [],
   "source": [
    "from keras.callbacks import TensorBoard, ModelCheckpoint, EarlyStopping\n",
    "\n",
    "callbacks = [\n",
    "    EarlyStopping(monitor='val_mean_absolute_error', patience=50),\n",
    "    ModelCheckpoint(filepath='datafiniti_hotel_reviews_sentiment.h5', monitor='val_loss', save_best_only=True),\n",
    "    TensorBoard(log_dir='my_log_dir', histogram_freq=1)\n",
    "]\n",
    "\n",
    "model.reset_states()\n",
    "history = model.fit(X_train, y_train, epochs=500, batch_size=len(X_train), verbose=0, validation_split=0.2, callbacks=callbacks)"
   ]
  },
  {
   "cell_type": "markdown",
   "metadata": {},
   "source": [
    "#### Plot model history"
   ]
  },
  {
   "cell_type": "code",
   "execution_count": 16,
   "metadata": {},
   "outputs": [
    {
     "data": {
      "image/png": "[encoded data removed]",
      "text/plain": [
       "<Figure size 432x288 with 1 Axes>"
      ]
     },
     "metadata": {
      "needs_background": "light"
     },
     "output_type": "display_data"
    }
   ],
   "source": [
    "%matplotlib inline\n",
    "import matplotlib.pyplot as plt\n",
    "import numpy as np\n",
    "\n",
    "val_loss = history.history['val_loss']\n",
    "loss = history.history['loss']\n",
    "\n",
    "epochs = np.arange(len(loss))\n",
    "up_to_epoch = 500\n",
    "\n",
    "plt.plot(loss)\n",
    "plt.plot(val_loss)\n",
    "plt.show()"
   ]
  },
  {
   "cell_type": "markdown",
   "metadata": {},
   "source": [
    "### Predictions"
   ]
  },
  {
   "cell_type": "code",
   "execution_count": 18,
   "metadata": {},
   "outputs": [],
   "source": [
    "def predict_rating(text, model):\n",
    "    text_vector = tokenizer.texts_to_matrix([text])\n",
    "    prediction = model.predict(text_vector)\n",
    "    \n",
    "    return prediction[0, 0]"
   ]
  },
  {
   "cell_type": "code",
   "execution_count": 22,
   "metadata": {},
   "outputs": [
    {
     "name": "stdout",
     "output_type": "stream",
     "text": [
      "this hotel was a great experience in my life 3.746072\n",
      "awful experience 1.6366513\n",
      "service was disappointing 2.4090168\n",
      "totally recommended 4.762338\n"
     ]
    }
   ],
   "source": [
    "from keras.models import load_model\n",
    "loaded_model = load_model(\"datafiniti_hotel_reviews_sentiment.h5\")\n",
    "\n",
    "title = 'this hotel was a great experience in my life'\n",
    "print(title, predict_rating(title, loaded_model))\n",
    "\n",
    "title = 'awful experience'\n",
    "print(title, predict_rating(title, loaded_model))\n",
    "\n",
    "title = 'service was disappointing'\n",
    "print(title, predict_rating(title, loaded_model))\n",
    "\n",
    "title = 'totally recommended'\n",
    "print(title, predict_rating(title, loaded_model))"
   ]
  },
  {
   "cell_type": "markdown",
   "metadata": {},
   "source": [
    "### Possible Improvements\n",
    "\n",
    "This model can improve if we apply some other techniques. To name some: \n",
    "\n",
    "- Word embeddings to preserve the words meaning\n",
    "- Word stemming\n",
    "- N-grams or even convolutional neural networks to preserve the meaning of consecutive words\n",
    "- Recurrent neural networks to use the fact that sentences are sequences\n"
   ]
  }
 ],
 "metadata": {
  "kernelspec": {
   "display_name": "Python 3",
   "language": "python",
   "name": "python3"
  },
  "language_info": {
   "codemirror_mode": {
    "name": "ipython",
    "version": 3
   },
   "file_extension": ".py",
   "mimetype": "text/x-python",
   "name": "python",
   "nbconvert_exporter": "python",
   "pygments_lexer": "ipython3",
   "version": "3.6.8"
  },
  "widgets": {
   "state": {},
   "version": "1.1.2"
  }
 },
 "nbformat": 4,
 "nbformat_minor": 2
}
